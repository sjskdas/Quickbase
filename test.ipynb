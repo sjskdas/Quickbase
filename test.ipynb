{
 "cells": [
  {
   "cell_type": "code",
   "execution_count": 2,
   "metadata": {},
   "outputs": [],
   "source": [
    "import pandas as pd\n",
    "import numpy as np\n",
    "import os\n",
    "import re"
   ]
  },
  {
   "cell_type": "code",
   "execution_count": 8,
   "metadata": {},
   "outputs": [
    {
     "name": "stdout",
     "output_type": "stream",
     "text": [
      "['TRUE', 'True', 'true', 'Yes', 'yes']\n",
      "{10, 20, 37, 30}\n",
      "False\n",
      "<class 'pandas.core.series.Series'>\n"
     ]
    }
   ],
   "source": [
    "os.system('jupyter nbconvert --to script Lexicons.ipynb')\n",
    "from Lexicons import *\n",
    "abc()\n",
    "\n",
    "rows=[[10, \"abc vv\"], [20, \"abc(10m 9s) <br>\"], [30, \"abc 2\"], [20, \"dbc<br>\"], [20, \"\"], [37, np.nan], [30, \"ghi\"]]\n",
    "df = pd.DataFrame(rows, columns=[\"Id\", \"Text\"])\n",
    "df[df[\"Text\"] != \"\"].head()\n",
    "df.reset_index(drop=True, inplace=True)\n",
    "df.head(20)\n",
    "1 not in set(df[\"Id\"])\n",
    "print(set(df[\"Id\"]))\n",
    "#df.reset_index(drop=True, inplace=True)\n",
    "print(\"m\" in df.index.names)\n",
    "print(type(df[\"Text\"]))"
   ]
  },
  {
   "cell_type": "code",
   "execution_count": 5,
   "metadata": {},
   "outputs": [
    {
     "name": "stdout",
     "output_type": "stream",
     "text": [
      "0    10\n",
      "1    20\n",
      "2    30\n",
      "3    20\n",
      "6    30\n",
      "Name: Id, dtype: int64\n",
      "False\n",
      "5 5\n"
     ]
    }
   ],
   "source": [
    "df_filter = df[(df[\"Text\"].notnull()) & (df[\"Text\"] != \"\")]\n",
    "df_filter.head(10)\n",
    "print(df_filter.iloc[:,0])\n",
    "print(isinstance(None, pd.DataFrame))\n",
    "print(len(df_filter), df_filter.shape[0])"
   ]
  },
  {
   "cell_type": "code",
   "execution_count": 8,
   "metadata": {},
   "outputs": [
    {
     "name": "stderr",
     "output_type": "stream",
     "text": [
      "<ipython-input-8-4d4ae656960d>:4: SettingWithCopyWarning: \n",
      "A value is trying to be set on a copy of a slice from a DataFrame\n",
      "\n",
      "See the caveats in the documentation: https://pandas.pydata.org/pandas-docs/stable/user_guide/indexing.html#returning-a-view-versus-a-copy\n",
      "  df_filter['Text'][index] = re.sub('<.*>|\\(.*\\)', '', row['Text'][posn:])\n",
      "C:\\Users\\sjskd\\anaconda3\\lib\\site-packages\\IPython\\core\\interactiveshell.py:3343: SettingWithCopyWarning: \n",
      "A value is trying to be set on a copy of a slice from a DataFrame\n",
      "\n",
      "See the caveats in the documentation: https://pandas.pydata.org/pandas-docs/stable/user_guide/indexing.html#returning-a-view-versus-a-copy\n",
      "  exec(code_obj, self.user_global_ns, self.user_ns)\n"
     ]
    },
    {
     "data": {
      "text/html": [
       "<div>\n",
       "<style scoped>\n",
       "    .dataframe tbody tr th:only-of-type {\n",
       "        vertical-align: middle;\n",
       "    }\n",
       "\n",
       "    .dataframe tbody tr th {\n",
       "        vertical-align: top;\n",
       "    }\n",
       "\n",
       "    .dataframe thead th {\n",
       "        text-align: right;\n",
       "    }\n",
       "</style>\n",
       "<table border=\"1\" class=\"dataframe\">\n",
       "  <thead>\n",
       "    <tr style=\"text-align: right;\">\n",
       "      <th></th>\n",
       "      <th>Id</th>\n",
       "      <th>Text</th>\n",
       "    </tr>\n",
       "  </thead>\n",
       "  <tbody>\n",
       "    <tr>\n",
       "      <th>0</th>\n",
       "      <td>10</td>\n",
       "      <td>vv</td>\n",
       "    </tr>\n",
       "    <tr>\n",
       "      <th>1</th>\n",
       "      <td>20</td>\n",
       "      <td></td>\n",
       "    </tr>\n",
       "    <tr>\n",
       "      <th>2</th>\n",
       "      <td>30</td>\n",
       "      <td>2</td>\n",
       "    </tr>\n",
       "    <tr>\n",
       "      <th>3</th>\n",
       "      <td>20</td>\n",
       "      <td></td>\n",
       "    </tr>\n",
       "    <tr>\n",
       "      <th>6</th>\n",
       "      <td>30</td>\n",
       "      <td>hi</td>\n",
       "    </tr>\n",
       "  </tbody>\n",
       "</table>\n",
       "</div>"
      ],
      "text/plain": [
       "   Id Text\n",
       "0  10   vv\n",
       "1  20     \n",
       "2  30    2\n",
       "3  20     \n",
       "6  30   hi"
      ]
     },
     "execution_count": 8,
     "metadata": {},
     "output_type": "execute_result"
    }
   ],
   "source": [
    "import re\n",
    "for index, row in df_filter.iterrows():\n",
    "    posn = row['Text'].find(\"bc\")+len(\"bc\")\n",
    "    df_filter['Text'][index] = re.sub('<.*>|\\(.*\\)', '', row['Text'][posn:])\n",
    "df_filter.head(10)"
   ]
  },
  {
   "cell_type": "code",
   "execution_count": 9,
   "metadata": {},
   "outputs": [
    {
     "name": "stdout",
     "output_type": "stream",
     "text": [
      "   Id Text\n",
      "6  30  ghi\n"
     ]
    }
   ],
   "source": [
    "df_filter = df_filter[df_filter[\"Text\"].apply(lambda text: text not in set([\"abc\", \"def\"]))]\n",
    "print(df_filter)"
   ]
  },
  {
   "cell_type": "code",
   "execution_count": 2,
   "metadata": {},
   "outputs": [
    {
     "ename": "NameError",
     "evalue": "name 'np' is not defined",
     "output_type": "error",
     "traceback": [
      "\u001b[1;31m---------------------------------------------------------------------------\u001b[0m",
      "\u001b[1;31mNameError\u001b[0m                                 Traceback (most recent call last)",
      "\u001b[1;32m<ipython-input-2-ad52b0c08ced>\u001b[0m in \u001b[0;36m<module>\u001b[1;34m\u001b[0m\n\u001b[1;32m----> 1\u001b[1;33m \u001b[0mdf\u001b[0m\u001b[1;33m.\u001b[0m\u001b[0mloc\u001b[0m\u001b[1;33m[\u001b[0m\u001b[0mdf\u001b[0m\u001b[1;33m.\u001b[0m\u001b[0mshape\u001b[0m\u001b[1;33m[\u001b[0m\u001b[1;36m0\u001b[0m\u001b[1;33m]\u001b[0m\u001b[1;33m]\u001b[0m \u001b[1;33m=\u001b[0m \u001b[1;33m(\u001b[0m\u001b[1;33m[\u001b[0m\u001b[0mnp\u001b[0m\u001b[1;33m.\u001b[0m\u001b[0mnan\u001b[0m\u001b[1;33m]\u001b[0m \u001b[1;33m*\u001b[0m \u001b[1;33m(\u001b[0m\u001b[0mlen\u001b[0m\u001b[1;33m(\u001b[0m\u001b[0mdf\u001b[0m\u001b[1;33m.\u001b[0m\u001b[0mcolumns\u001b[0m\u001b[1;33m)\u001b[0m \u001b[1;33m-\u001b[0m \u001b[1;36m1\u001b[0m\u001b[1;33m)\u001b[0m\u001b[1;33m+\u001b[0m\u001b[1;33m[\u001b[0m\u001b[1;34m\"mno\"\u001b[0m\u001b[1;33m]\u001b[0m\u001b[1;33m)\u001b[0m\u001b[1;33m\u001b[0m\u001b[1;33m\u001b[0m\u001b[0m\n\u001b[0m\u001b[0;32m      2\u001b[0m \u001b[0mdf\u001b[0m\u001b[1;33m.\u001b[0m\u001b[0mloc\u001b[0m\u001b[1;33m[\u001b[0m\u001b[0mdf\u001b[0m\u001b[1;33m.\u001b[0m\u001b[0mshape\u001b[0m\u001b[1;33m[\u001b[0m\u001b[1;36m0\u001b[0m\u001b[1;33m]\u001b[0m\u001b[1;33m]\u001b[0m \u001b[1;33m=\u001b[0m \u001b[1;33m(\u001b[0m\u001b[1;33m[\u001b[0m\u001b[0mnp\u001b[0m\u001b[1;33m.\u001b[0m\u001b[0mnan\u001b[0m\u001b[1;33m]\u001b[0m \u001b[1;33m*\u001b[0m \u001b[1;33m(\u001b[0m\u001b[0mlen\u001b[0m\u001b[1;33m(\u001b[0m\u001b[0mdf\u001b[0m\u001b[1;33m.\u001b[0m\u001b[0mcolumns\u001b[0m\u001b[1;33m)\u001b[0m \u001b[1;33m-\u001b[0m \u001b[1;36m1\u001b[0m\u001b[1;33m)\u001b[0m\u001b[1;33m+\u001b[0m\u001b[1;33m[\u001b[0m\u001b[1;34m\"ghi\"\u001b[0m\u001b[1;33m]\u001b[0m\u001b[1;33m)\u001b[0m\u001b[1;33m\u001b[0m\u001b[1;33m\u001b[0m\u001b[0m\n\u001b[0;32m      3\u001b[0m \u001b[0mdf\u001b[0m\u001b[1;33m.\u001b[0m\u001b[0mloc\u001b[0m\u001b[1;33m[\u001b[0m\u001b[0mdf\u001b[0m\u001b[1;33m.\u001b[0m\u001b[0mshape\u001b[0m\u001b[1;33m[\u001b[0m\u001b[1;36m0\u001b[0m\u001b[1;33m]\u001b[0m\u001b[1;33m]\u001b[0m \u001b[1;33m=\u001b[0m \u001b[1;33m(\u001b[0m\u001b[1;33m[\u001b[0m\u001b[0mnp\u001b[0m\u001b[1;33m.\u001b[0m\u001b[0mnan\u001b[0m\u001b[1;33m]\u001b[0m \u001b[1;33m*\u001b[0m \u001b[1;33m(\u001b[0m\u001b[0mlen\u001b[0m\u001b[1;33m(\u001b[0m\u001b[0mdf\u001b[0m\u001b[1;33m.\u001b[0m\u001b[0mcolumns\u001b[0m\u001b[1;33m)\u001b[0m \u001b[1;33m-\u001b[0m \u001b[1;36m1\u001b[0m\u001b[1;33m)\u001b[0m\u001b[1;33m+\u001b[0m\u001b[1;33m[\u001b[0m\u001b[1;34m\"opq\"\u001b[0m\u001b[1;33m]\u001b[0m\u001b[1;33m)\u001b[0m\u001b[1;33m\u001b[0m\u001b[1;33m\u001b[0m\u001b[0m\n\u001b[0;32m      4\u001b[0m \u001b[1;31m#df = pd.DataFrame(np.insert(df.values, 0, values=[[np.nan] * (len(df.columns) - 1)]+[\"mno\"], axis=1))\u001b[0m\u001b[1;33m\u001b[0m\u001b[1;33m\u001b[0m\u001b[1;33m\u001b[0m\u001b[0m\n\u001b[0;32m      5\u001b[0m \u001b[1;31m#df[\"Text\"] = pd.Series(cols)\u001b[0m\u001b[1;33m\u001b[0m\u001b[1;33m\u001b[0m\u001b[1;33m\u001b[0m\u001b[0m\n",
      "\u001b[1;31mNameError\u001b[0m: name 'np' is not defined"
     ]
    }
   ],
   "source": [
    "df.loc[df.shape[0]] = ([np.nan] * (len(df.columns) - 1)+[\"mno\"])\n",
    "df.loc[df.shape[0]] = ([np.nan] * (len(df.columns) - 1)+[\"ghi\"])\n",
    "df.loc[df.shape[0]] = ([np.nan] * (len(df.columns) - 1)+[\"opq\"])\n",
    "#df = pd.DataFrame(np.insert(df.values, 0, values=[[np.nan] * (len(df.columns) - 1)]+[\"mno\"], axis=1))\n",
    "#df[\"Text\"] = pd.Series(cols)\n",
    "df.head(20)"
   ]
  },
  {
   "cell_type": "code",
   "execution_count": 3,
   "metadata": {},
   "outputs": [
    {
     "data": {
      "text/plain": [
       "'def'"
      ]
     },
     "execution_count": 3,
     "metadata": {},
     "output_type": "execute_result"
    }
   ],
   "source": [
    "df[df[\"Id\"] == 20].iloc[0][\"Text\"]"
   ]
  },
  {
   "cell_type": "code",
   "execution_count": 4,
   "metadata": {},
   "outputs": [
    {
     "name": "stdout",
     "output_type": "stream",
     "text": [
      "(3, 2)\n",
      "0\n",
      "1\n",
      "2\n"
     ]
    }
   ],
   "source": [
    "print(df.shape)\n",
    "for index, row in df.iterrows():\n",
    "    print(index)"
   ]
  },
  {
   "cell_type": "code",
   "execution_count": 6,
   "metadata": {},
   "outputs": [
    {
     "data": {
      "text/plain": [
       "array([10, 20, 30], dtype=int64)"
      ]
     },
     "execution_count": 6,
     "metadata": {},
     "output_type": "execute_result"
    }
   ],
   "source": [
    "df.Id.unique()"
   ]
  },
  {
   "cell_type": "code",
   "execution_count": 2,
   "metadata": {},
   "outputs": [
    {
     "name": "stdout",
     "output_type": "stream",
     "text": [
      "2023-06-21\n",
      "2021-06-22\n",
      "2021-08-21\n",
      "0\n",
      "21\n",
      "5 6\n"
     ]
    }
   ],
   "source": [
    "from datetime import date, datetime, timedelta\n",
    "from dateutil.relativedelta import relativedelta\n",
    "current_time = datetime.now()\n",
    "print(current_time.date()+ relativedelta(years=+2))\n",
    "print(current_time.date()+ timedelta(days=+1))\n",
    "print(current_time.date()- relativedelta(months=+4)+ relativedelta(months=+6))\n",
    "print(current_time.date().weekday())\n",
    "print(current_time.date().day)\n",
    "from_index, to_index = 5,6\n",
    "print(from_index, to_index)\n",
    "for i in range(0,0):\n",
    "    print(i)"
   ]
  },
  {
   "cell_type": "code",
   "execution_count": 6,
   "metadata": {},
   "outputs": [
    {
     "name": "stdout",
     "output_type": "stream",
     "text": [
      "C:\\MY FILES\\Demos\n"
     ]
    },
    {
     "data": {
      "text/plain": [
       "datetime.date(2020, 12, 1)"
      ]
     },
     "execution_count": 6,
     "metadata": {},
     "output_type": "execute_result"
    }
   ],
   "source": [
    "from datetime import date, datetime, timedelta\n",
    "from dateutil import parser\n",
    "get_ipython().run_line_magic('cd', '\"C:/MY FILES/Demos\"')\n",
    "parser.parse(\"5/15/2020  5:48:41 AM\").date()\n",
    "datetime.now().date().replace(day=1)\n"
   ]
  },
  {
   "cell_type": "code",
   "execution_count": 3,
   "metadata": {},
   "outputs": [
    {
     "name": "stdout",
     "output_type": "stream",
     "text": [
      "2021-01-08\n"
     ]
    }
   ],
   "source": [
    "from datetime import date, datetime, timedelta\n",
    "start_date = datetime(2020, 1, 1).date()\n",
    "start_date < date.today()\n",
    "print(date.today()-timedelta(days=30))"
   ]
  },
  {
   "cell_type": "code",
   "execution_count": 75,
   "metadata": {},
   "outputs": [
    {
     "name": "stdout",
     "output_type": "stream",
     "text": [
      "0.9\n",
      "0.3250829733914482\n",
      "0.359833950782112\n"
     ]
    }
   ],
   "source": [
    "import scipy.stats\n",
    "import math\n",
    "from scipy.special import softmax\n",
    "from sklearn.preprocessing import normalize\n",
    "X = [0.25, 0.25, 0.25, 0.25]\n",
    "X = [0.2, 0.2, 0.2, 0.2, 0.2]\n",
    "X = [0.125, 0.125, 0.125, 0.125, 0.125, 0.125, 0.125, 0.125]\n",
    "X = [1.0, 1.0, 1.0, 1.0, 1.0, 1.0, 1.0, 1.0]\n",
    "X = [0.9, 0.05, 0.0, 0.025, 0.0, 0.025, 0, 0, 0]\n",
    "X = [0.9, 0.1]\n",
    "print(max(X))\n",
    "test_entropy = scipy.stats.entropy(X)\n",
    "print(test_entropy)\n",
    "print(sum([-p*math.log2(p) if p > 0 else 0.0 for p in normalize([X])[0]]))"
   ]
  },
  {
   "cell_type": "code",
   "execution_count": 20,
   "metadata": {},
   "outputs": [
    {
     "name": "stdout",
     "output_type": "stream",
     "text": [
      "abc    3\n",
      "def    1\n",
      "ghi    1\n",
      "       1\n",
      "Name: Text, dtype: int64\n",
      "4\n",
      "3\n"
     ]
    }
   ],
   "source": [
    "text_series = df[\"Text\"].value_counts()\n",
    "print(text_series)\n",
    "print(len(text_series))\n",
    "if \"abc\" in text_series.index:\n",
    "    print(text_series[\"abc\"])"
   ]
  },
  {
   "cell_type": "code",
   "execution_count": 15,
   "metadata": {},
   "outputs": [
    {
     "data": {
      "text/plain": [
       "'abc   yy'"
      ]
     },
     "execution_count": 15,
     "metadata": {},
     "output_type": "execute_result"
    }
   ],
   "source": [
    "import re\n",
    "s = \"abc < 67 r $ 2 a> (65m 10s) yy\"\n",
    "re.sub('<.*>|\\(.*\\)', '', s)"
   ]
  },
  {
   "cell_type": "code",
   "execution_count": 12,
   "metadata": {},
   "outputs": [
    {
     "name": "stdout",
     "output_type": "stream",
     "text": [
      "Parts of Speech:  [('cat', 'NN'), ('sat', 'VBD'), ('mat', 'NN')]\n"
     ]
    }
   ],
   "source": [
    "import nltk\n",
    "tokens = nltk.word_tokenize(\"cat sat mat\")\n",
    "print(\"Parts of Speech: \", nltk.pos_tag(tokens))"
   ]
  },
  {
   "cell_type": "code",
   "execution_count": 1,
   "metadata": {},
   "outputs": [
    {
     "ename": "OSError",
     "evalue": "[E050] Can't find model 'en'. It doesn't seem to be a shortcut link, a Python package or a valid path to a data directory.",
     "output_type": "error",
     "traceback": [
      "\u001b[1;31m---------------------------------------------------------------------------\u001b[0m",
      "\u001b[1;31mOSError\u001b[0m                                   Traceback (most recent call last)",
      "\u001b[1;32m<ipython-input-1-c1606b4d943e>\u001b[0m in \u001b[0;36m<module>\u001b[1;34m\u001b[0m\n\u001b[0;32m      1\u001b[0m \u001b[1;32mimport\u001b[0m \u001b[0mspacy\u001b[0m\u001b[1;33m\u001b[0m\u001b[1;33m\u001b[0m\u001b[0m\n\u001b[1;32m----> 2\u001b[1;33m \u001b[0mnlp\u001b[0m \u001b[1;33m=\u001b[0m \u001b[0mspacy\u001b[0m\u001b[1;33m.\u001b[0m\u001b[0mload\u001b[0m\u001b[1;33m(\u001b[0m\u001b[1;34m'en'\u001b[0m\u001b[1;33m)\u001b[0m\u001b[1;33m\u001b[0m\u001b[1;33m\u001b[0m\u001b[0m\n\u001b[0m\u001b[0;32m      3\u001b[0m \u001b[0msent\u001b[0m \u001b[1;33m=\u001b[0m \u001b[1;34m\"I shot an elephant\"\u001b[0m\u001b[1;33m\u001b[0m\u001b[1;33m\u001b[0m\u001b[0m\n\u001b[0;32m      4\u001b[0m \u001b[0mdoc\u001b[0m\u001b[1;33m=\u001b[0m\u001b[0mnlp\u001b[0m\u001b[1;33m(\u001b[0m\u001b[0msent\u001b[0m\u001b[1;33m)\u001b[0m\u001b[1;33m\u001b[0m\u001b[1;33m\u001b[0m\u001b[0m\n\u001b[0;32m      5\u001b[0m \u001b[1;33m\u001b[0m\u001b[0m\n",
      "\u001b[1;32m~\\anaconda3\\lib\\site-packages\\spacy\\__init__.py\u001b[0m in \u001b[0;36mload\u001b[1;34m(name, **overrides)\u001b[0m\n\u001b[0;32m     28\u001b[0m     \u001b[1;32mif\u001b[0m \u001b[0mdepr_path\u001b[0m \u001b[1;32mnot\u001b[0m \u001b[1;32min\u001b[0m \u001b[1;33m(\u001b[0m\u001b[1;32mTrue\u001b[0m\u001b[1;33m,\u001b[0m \u001b[1;32mFalse\u001b[0m\u001b[1;33m,\u001b[0m \u001b[1;32mNone\u001b[0m\u001b[1;33m)\u001b[0m\u001b[1;33m:\u001b[0m\u001b[1;33m\u001b[0m\u001b[1;33m\u001b[0m\u001b[0m\n\u001b[0;32m     29\u001b[0m         \u001b[0mwarnings\u001b[0m\u001b[1;33m.\u001b[0m\u001b[0mwarn\u001b[0m\u001b[1;33m(\u001b[0m\u001b[0mWarnings\u001b[0m\u001b[1;33m.\u001b[0m\u001b[0mW001\u001b[0m\u001b[1;33m.\u001b[0m\u001b[0mformat\u001b[0m\u001b[1;33m(\u001b[0m\u001b[0mpath\u001b[0m\u001b[1;33m=\u001b[0m\u001b[0mdepr_path\u001b[0m\u001b[1;33m)\u001b[0m\u001b[1;33m,\u001b[0m \u001b[0mDeprecationWarning\u001b[0m\u001b[1;33m)\u001b[0m\u001b[1;33m\u001b[0m\u001b[1;33m\u001b[0m\u001b[0m\n\u001b[1;32m---> 30\u001b[1;33m     \u001b[1;32mreturn\u001b[0m \u001b[0mutil\u001b[0m\u001b[1;33m.\u001b[0m\u001b[0mload_model\u001b[0m\u001b[1;33m(\u001b[0m\u001b[0mname\u001b[0m\u001b[1;33m,\u001b[0m \u001b[1;33m**\u001b[0m\u001b[0moverrides\u001b[0m\u001b[1;33m)\u001b[0m\u001b[1;33m\u001b[0m\u001b[1;33m\u001b[0m\u001b[0m\n\u001b[0m\u001b[0;32m     31\u001b[0m \u001b[1;33m\u001b[0m\u001b[0m\n\u001b[0;32m     32\u001b[0m \u001b[1;33m\u001b[0m\u001b[0m\n",
      "\u001b[1;32m~\\anaconda3\\lib\\site-packages\\spacy\\util.py\u001b[0m in \u001b[0;36mload_model\u001b[1;34m(name, **overrides)\u001b[0m\n\u001b[0;32m    173\u001b[0m     \u001b[1;32melif\u001b[0m \u001b[0mhasattr\u001b[0m\u001b[1;33m(\u001b[0m\u001b[0mname\u001b[0m\u001b[1;33m,\u001b[0m \u001b[1;34m\"exists\"\u001b[0m\u001b[1;33m)\u001b[0m\u001b[1;33m:\u001b[0m  \u001b[1;31m# Path or Path-like to model data\u001b[0m\u001b[1;33m\u001b[0m\u001b[1;33m\u001b[0m\u001b[0m\n\u001b[0;32m    174\u001b[0m         \u001b[1;32mreturn\u001b[0m \u001b[0mload_model_from_path\u001b[0m\u001b[1;33m(\u001b[0m\u001b[0mname\u001b[0m\u001b[1;33m,\u001b[0m \u001b[1;33m**\u001b[0m\u001b[0moverrides\u001b[0m\u001b[1;33m)\u001b[0m\u001b[1;33m\u001b[0m\u001b[1;33m\u001b[0m\u001b[0m\n\u001b[1;32m--> 175\u001b[1;33m     \u001b[1;32mraise\u001b[0m \u001b[0mIOError\u001b[0m\u001b[1;33m(\u001b[0m\u001b[0mErrors\u001b[0m\u001b[1;33m.\u001b[0m\u001b[0mE050\u001b[0m\u001b[1;33m.\u001b[0m\u001b[0mformat\u001b[0m\u001b[1;33m(\u001b[0m\u001b[0mname\u001b[0m\u001b[1;33m=\u001b[0m\u001b[0mname\u001b[0m\u001b[1;33m)\u001b[0m\u001b[1;33m)\u001b[0m\u001b[1;33m\u001b[0m\u001b[1;33m\u001b[0m\u001b[0m\n\u001b[0m\u001b[0;32m    176\u001b[0m \u001b[1;33m\u001b[0m\u001b[0m\n\u001b[0;32m    177\u001b[0m \u001b[1;33m\u001b[0m\u001b[0m\n",
      "\u001b[1;31mOSError\u001b[0m: [E050] Can't find model 'en'. It doesn't seem to be a shortcut link, a Python package or a valid path to a data directory."
     ]
    }
   ],
   "source": [
    "import spacy\n",
    "nlp = spacy.load('en')\n",
    "sent = \"I shot an elephant\"\n",
    "doc=nlp(sent)\n",
    "\n",
    "sub_toks = [tok for tok in doc if (tok.dep_ == \"nsubj\") ]\n",
    "\n",
    "print(sub_toks) "
   ]
  },
  {
   "cell_type": "code",
   "execution_count": 12,
   "metadata": {},
   "outputs": [
    {
     "name": "stdout",
     "output_type": "stream",
     "text": [
      "[2, 3, 'we', 4, 5]\n"
     ]
    }
   ],
   "source": [
    "x = [2,3, \"we\"] + [4,5]\n",
    "print(x)"
   ]
  },
  {
   "cell_type": "code",
   "execution_count": 73,
   "metadata": {},
   "outputs": [
    {
     "name": "stdout",
     "output_type": "stream",
     "text": [
      "sd\n"
     ]
    }
   ],
   "source": [
    "x = \"\"\n",
    "if not x:\n",
    "    print(\"sd\")"
   ]
  },
  {
   "cell_type": "code",
   "execution_count": 1,
   "metadata": {},
   "outputs": [
    {
     "name": "stdout",
     "output_type": "stream",
     "text": [
      "{'here', 'something', 'is'}\n",
      "happening\n",
      "{'henning', 'penning', 'happening'}\n"
     ]
    }
   ],
   "source": [
    "from spellchecker import SpellChecker\n",
    "\n",
    "spell = SpellChecker()\n",
    "\n",
    "# find those words that may be misspelled\n",
    "misspelled = spell.unknown(['something', 'is', 'hapenning', 'here'])\n",
    "spelled = spell.known(['something', 'is', 'hapenning', 'here'])\n",
    "print(spelled)\n",
    "\n",
    "for word in misspelled:\n",
    "    # Get the one `most likely` answer\n",
    "    print(spell.correction(word))\n",
    "\n",
    "    # Get a list of `likely` options\n",
    "    print(spell.candidates(word))"
   ]
  },
  {
   "cell_type": "code",
   "execution_count": 25,
   "metadata": {},
   "outputs": [],
   "source": [
    "x = 'something bafd'\n",
    "y = x.split(' ')\n",
    "if len(spell.unknown([y[0], y[1]])) == 0:\n",
    "    print(x)"
   ]
  },
  {
   "cell_type": "code",
   "execution_count": 56,
   "metadata": {},
   "outputs": [
    {
     "data": {
      "text/plain": [
       "'99.9'"
      ]
     },
     "execution_count": 56,
     "metadata": {},
     "output_type": "execute_result"
    }
   ],
   "source": [
    "str(99.9)"
   ]
  },
  {
   "cell_type": "code",
   "execution_count": 3,
   "metadata": {},
   "outputs": [
    {
     "data": {
      "text/plain": [
       "3.4"
      ]
     },
     "execution_count": 3,
     "metadata": {},
     "output_type": "execute_result"
    }
   ],
   "source": [
    "\"Ab. F\".replace(\".\", \"\").lower()\n",
    "max([2,3.4, 1.2])"
   ]
  },
  {
   "cell_type": "code",
   "execution_count": 13,
   "metadata": {},
   "outputs": [
    {
     "name": "stdout",
     "output_type": "stream",
     "text": [
      "<br>( 2m 24s ) Visitor: Do I need a referral from my doctor to make a reservation first?<br>( 3m 4s ) Jeff: Good Morning Sufyaan! I will be happy to look into this for you.<br>( 3m 54s ) Jeff: Is your Doctor part of the Advent Health network?<br>( 5m 43s ) Visitor: I’m not sure<br>( 5m 53s ) Visitor: its dr shazia nasir<br>( 9m 13s ) Jeff: I am researching right now, one moment please.<br>( 10m 12s ) Visitor: No problem, do you cover Florida blue insurance?<br>( 16m 57s ) Jeff: Dr. Shazia Nasir is not part of the Advent Health network.  I would suggest calling your insurance company about questions with the referral. This number should be on the back of your insurance card.<br>( 17m 39s ) Visitor: Okay so I called and they said they don’t need referrals<br>( 17m 43s ) Visitor: just insurance info<br>( 17m 47s ) Visitor: could u confirm<br>( 18m 11s ) Jeff: If you would like to get connected with a specific Doctor within the Advent Health network, I would be happy to look into that for you.<br>( 20m 38s ) Jeff: I am unable to confirm because that physician is not with Advent Health. But the safest bet is to verify with your insurance provider .<br>( 21m 17s ) Jeff: Is there anything else I can assist you with?<br>( 24m 3s ) Visitor: That should be all<br>( 24m 20s ) Jeff: Thanks so much and have a great day!<br>\n",
      " Visitor: Do I need a referral from my doctor to make a reservation first? Jeff: Good Morning Sufyaan! I will be happy to look into this for you. Jeff: Is your Doctor part of the Advent Health network? Visitor: I’m not sure Visitor: its dr shazia nasir Jeff: I am researching right now, one moment please. Visitor: No problem, do you cover Florida blue insurance? Jeff: Dr. Shazia Nasir is not part of the Advent Health network.  I would suggest calling your insurance company about questions with the referral. This number should be on the back of your insurance card. Visitor: Okay so I called and they said they don’t need referrals Visitor: just insurance info Visitor: could u confirm Jeff: If you would like to get connected with a specific Doctor within the Advent Health network, I would be happy to look into that for you. Jeff: I am unable to confirm because that physician is not with Advent Health. But the safest bet is to verify with your insurance provider . Jeff: Is there anything else I can assist you with? Visitor: That should be all Jeff: Thanks so much and have a great day!\n"
     ]
    }
   ],
   "source": [
    "import re\n",
    "delim = \"How can I care for you today?\"\n",
    "text = '<p align=\"center\">Chat Started: Monday, November 02, 2020, 08:49:45 (-0500)</p>( 2s ) Hope: Hi, welcome to AdventHealth! I’m here to help you with any of the following options or to connect you with additional support.<br>( 4s ) Hope: What would you like help with?<br>( 6s ) Hope: {ChatWindowButton:COVID-19 Testing Reservations,Get Care Now,Access Medical Records,Talk with a Care Advocate}<br>( 13s ) Visitor: COVID-19 Testing Reservations<br>( 15s ) Hope: I’m happy to provide testing information in your area. What state do you live in?<br>( 17s ) Hope: {ChatWindowButton:Florida,Kansas,North Carolina,Other}<br>( 18s ) Visitor: Florida<br>( 20s ) Hope: We’re currently offering limited COVID-19 testing, including PCR and antigen testing, at all Florida Centra Care locations.<br>( 22s ) Hope: We recommend scheduling an appointment for a provider visit and test on our website at CentraCare.AdventHealth.com/urgent-care<br>( 24s ) Hope: What would you like help with?<br>( 26s ) Hope: {ChatWindowButton:COVID-19 Testing Reservations,Get Care Now,Access Medical Records,Talk with a Care Advocate}<br>( 30s ) Visitor: How much is the COVID test<br>( 33s ) Hope: You previously asked about Florida. I&#39;m happy to give you information about other areas.<br>( 35s ) Hope: I’m happy to provide testing information in your area. What state do you live in?<br>( 36s ) Hope: {ChatWindowButton:Florida,Kansas,North Carolina,Other}<br>( 38s ) Visitor: Florida<br>( 40s ) Hope: We’re currently offering limited COVID-19 testing, including PCR and antigen testing, at all Florida Centra Care locations.<br>( 42s ) Hope: We recommend scheduling an appointment for a provider visit and test on our website at CentraCare.AdventHealth.com/urgent-care<br>( 44s ) Hope: What would you like help with?<br>( 46s ) Hope: {ChatWindowButton:COVID-19 Testing Reservations,Get Care Now,Access Medical Records,Talk with a Care Advocate}<br>( 50s ) Visitor: COVID-19 Testing Reservations<br>( 52s ) Hope: You previously asked about Florida. I&#39;m happy to give you information about other areas.<br>( 54s ) Hope: I’m happy to provide testing information in your area. What state do you live in?<br>( 56s ) Hope: {ChatWindowButton:Florida,Kansas,North Carolina,Other}<br>( 57s ) Visitor: Chat with a Care Advocate<br>( 59s ) Hope: I’m happy to connect you with a Care Advocate. Just a few things to note: If you’re having a medical emergency, call 911 instead. To provide you with the best care, the Care Advocate may ask you for additional demographic information. Do you understand?<br>( 1m 1s ) Hope: {ChatWindowButton:I Understand,Never Mind}<br>( 1m 6s ) Visitor: I Understand<br>( 1m 8s ) Hope: What is your first name?<br>( 1m 10s ) Hope: {ChatWindowButton:Never Mind}<br>( 1m 15s ) Visitor: Sufyaan<br>( 1m 17s ) Hope: What is your last name?<br>( 1m 19s ) Hope: {ChatWindowButton:Never Mind}<br>( 1m 23s ) Visitor: Virani<br>( 1m 25s ) Hope: What is your phone number?<br>( 1m 27s ) Hope: {ChatWindowButton:Never Mind}<br>( 1m 33s ) Visitor: 4074964710<br>( 1m 35s ) Hope: Your full name is &quot;Sufyaan Virani&quot;, is that correct?<br>( 1m 37s ) Hope: {ChatWindowButton:Yes,No}<br>( 1m 40s ) Visitor: Yes<br>( 1m 42s ) Hope: Lastly, to help us find resources relevant to you, what is your ZIP code?<br>( 1m 55s ) Visitor: 34711<br>( 1m 57s ) Hope: I am connecting you now.<br><p align=\"center\">Agent Chatbot transferred the chat to QueueId 00G2M000003OwN3UAK</p><p align=\"center\">Chat Started: Monday, November 02, 2020, 08:51:48 (-0500)</p><p align=\"center\">Chat Origin: Coronavirus With Bot</p><p align=\"center\">Chat Transferred From Hope To Jeff</p>( 2m 3s ) Jeff: Thank you for connecting with us. My name is Jeff. How can I care for you today?<br>( 2m 24s ) Visitor: Do I need a referral from my doctor to make a reservation first?<br>( 3m 4s ) Jeff: Good Morning Sufyaan! I will be happy to look into this for you.<br>( 3m 54s ) Jeff: Is your Doctor part of the Advent Health network?<br>( 5m 43s ) Visitor: I’m not sure<br>( 5m 53s ) Visitor: its dr shazia nasir<br>( 9m 13s ) Jeff: I am researching right now, one moment please.<br>( 10m 12s ) Visitor: No problem, do you cover Florida blue insurance?<br>( 16m 57s ) Jeff: Dr. Shazia Nasir is not part of the Advent Health network.  I would suggest calling your insurance company about questions with the referral. This number should be on the back of your insurance card.<br>( 17m 39s ) Visitor: Okay so I called and they said they don’t need referrals<br>( 17m 43s ) Visitor: just insurance info<br>( 17m 47s ) Visitor: could u confirm<br>( 18m 11s ) Jeff: If you would like to get connected with a specific Doctor within the Advent Health network, I would be happy to look into that for you.<br>( 20m 38s ) Jeff: I am unable to confirm because that physician is not with Advent Health. But the safest bet is to verify with your insurance provider .<br>( 21m 17s ) Jeff: Is there anything else I can assist you with?<br>( 24m 3s ) Visitor: That should be all<br>( 24m 20s ) Jeff: Thanks so much and have a great day!<br>'\n",
    "posn = text.find(delim) + len(delim)\n",
    "print(text[posn:])\n",
    "s = re.sub('<.*?>|\\(.*?\\)', '', text[posn:])\n",
    "print(s)"
   ]
  },
  {
   "cell_type": "code",
   "execution_count": 50,
   "metadata": {},
   "outputs": [
    {
     "name": "stdout",
     "output_type": "stream",
     "text": [
      "\\sVisitor\\:\\s\n"
     ]
    },
    {
     "data": {
      "text/plain": [
       "[(' Visitor: Do I need a referral from my doctor to make a reservation first? Jeff: ',\n",
       "  ' '),\n",
       " (' Visitor: I’m not sure Visitor: its dr shazia nasir Jeff: ', ' '),\n",
       " (' Visitor: No problem, do you cover Florida blue insurance? Jeff: ', ' '),\n",
       " (' Visitor: Okay so I called and they said they don’t need referrals Visitor: just insurance info Visitor: could u confirm Jeff: ',\n",
       "  ' '),\n",
       " (' Visitor: That should be all Jeff: ', ' ')]"
      ]
     },
     "execution_count": 50,
     "metadata": {},
     "output_type": "execute_result"
    }
   ],
   "source": [
    "ca = 'Jeff'\n",
    "visitor = ' Visitor: '\n",
    "visitor = visitor.replace(' ', '\\\\s').replace(':', '\\\\:')\n",
    "print(visitor)\n",
    "re.findall('(\\s((?!\\s).)*?\\:\\s)', s)\n",
    "re.findall('(' + visitor + '((?!' + ca + '\\:).)*?' + ca + '\\:\\s)', s)"
   ]
  },
  {
   "cell_type": "code",
   "execution_count": 9,
   "metadata": {},
   "outputs": [],
   "source": [
    "text = \"Symptoms (0.68): Hi Courtney can u get a message of dr Desai I was exercising Friday lifting weights and doing stair master. Since then my lower back is in pain especially when I go to sleep every night. Iâm not able to find a comfortable position because of the pain. And so it interferes with my sleeping. I would like to see if he can prescribe me something\\\n",
    "\\\n",
    "NO PREDICTION: Yes\\\n",
    "\\n\\\n",
    "Scheduling (0.6): Ok Iâm off work today so hopefully something can be done\\\n",
    "\\n\\\n",
    "Feedback (0.77): So is this the portal I use to get messages to my doctor?This is the app\\\n",
    "\\\n",
    "Scheduling (0.48): That means I have to end this session Iâm not able to do both\\\n",
    "\""
   ]
  },
  {
   "cell_type": "code",
   "execution_count": 10,
   "metadata": {},
   "outputs": [],
   "source": [
    "text = re.findall('(\\:\\s.*?\\n)', text)[0][2:-1]"
   ]
  },
  {
   "cell_type": "code",
   "execution_count": 6,
   "metadata": {},
   "outputs": [
    {
     "name": "stdout",
     "output_type": "stream",
     "text": [
      "[5 6 7 8]\n",
      "[8 7 6 5]\n"
     ]
    }
   ],
   "source": [
    "arr = np.array([[5, 6], [7, 8]])\n",
    "gfg = arr.flatten()\n",
    "print( gfg ) \n",
    "print(gfg[::-1])"
   ]
  },
  {
   "cell_type": "code",
   "execution_count": 2,
   "metadata": {},
   "outputs": [
    {
     "ename": "NameError",
     "evalue": "name 'text' is not defined",
     "output_type": "error",
     "traceback": [
      "\u001b[1;31m---------------------------------------------------------------------------\u001b[0m",
      "\u001b[1;31mNameError\u001b[0m                                 Traceback (most recent call last)",
      "\u001b[1;32m<ipython-input-2-10548dbb07d7>\u001b[0m in \u001b[0;36m<module>\u001b[1;34m\u001b[0m\n\u001b[1;32m----> 1\u001b[1;33m \u001b[0mtext\u001b[0m\u001b[1;33m.\u001b[0m\u001b[0mencode\u001b[0m\u001b[1;33m(\u001b[0m\u001b[1;34m'utf-8'\u001b[0m\u001b[1;33m)\u001b[0m\u001b[1;33m.\u001b[0m\u001b[0mstrip\u001b[0m\u001b[1;33m(\u001b[0m\u001b[1;33m)\u001b[0m\u001b[1;33m\u001b[0m\u001b[1;33m\u001b[0m\u001b[0m\n\u001b[0m",
      "\u001b[1;31mNameError\u001b[0m: name 'text' is not defined"
     ]
    }
   ],
   "source": [
    "text.encode('utf-8').strip()"
   ]
  },
  {
   "cell_type": "code",
   "execution_count": 90,
   "metadata": {},
   "outputs": [],
   "source": [
    "\n",
    "s = '<p align=\"center\">Chat Started: Monday, November 02, 2020, 08:02:29 (-0500)</p>( 2s ) Hope: Hi, welcome to AdventHealth! I’m here to help you with any of the following options or to connect you with additional support.<br>( 4s ) Hope: What would you like help with?<br>( 6s ) Hope: {ChatWindowButton:COVID-19 Testing Reservations,Get Care Now,Access Medical Records,Talk with a Care Advocate}<br>( 17s ) ERIKA: null<br>( 19s ) Hope: I’m happy to connect you with a Care Advocate. Just a few things to note: If you’re having a medical emergency, call 911 instead. Are you ready?<br>( 21s ) Hope: {ChatWindowButton:I&#39;m Ready,Never Mind}<br>( 23s ) ERIKA: null<br>( 25s ) Hope: I am attempting to connect you now.<br><p align=\"center\">Agent Chatbot transferred the chat to QueueId 00G2M000003OwN3UAK</p><p align=\"center\">Chat Started: Monday, November 02, 2020, 08:03:08 (-0500)</p><p align=\"center\">Chat Origin: Coronavirus With Bot</p><p align=\"center\">Chat Transferred From Hope To Sheila</p>( 39s ) Sheila: Thank you for connecting with us. My name is Sheila. How can I care for you today?<br>( 1m 7s ) Sheila: Good Morning Erika, I here to assist you.<br>( 1m 9s ) ERIKA: Hi Sheila!<br>( 1m 43s ) ERIKA: Can you tell me where I could get a Covid test near me?<br>( 2m 18s ) Sheila: Hi Erika, I can help with that. Please send me your zip code and I can look up locations near you.<br>( 2m 25s ) ERIKA: 33896<br>( 2m 55s ) Sheila: Perfect, give me one moment while I look up locations.<br>( 3m 1s ) ERIKA: thanks<br>( 3m 54s ) Sheila: There is  AdventHealth Centra Care Orange Lake that is 7.08 miles away. <br>8201 W. Irlo Bronson Memorial Hwy<br>Kissimmee, FL 34747<br>(407) 465-0846<br>Hours: 8:00am to 8:00pm<br>( 4m 20s ) ERIKA: Perfect!<br>( 4m 57s ) Sheila: Would you like me to help you schedule an appointment? You can also download the Advent Health application and register for an appointment straight from your phone.<br>( 5m 19s ) Sheila: Here to support you :)<br>( 6m 27s ) ERIKA: I&#39;m ok right now, I just wanted to know the closest location. thanks.<br>( 6m 59s ) Sheila: Best of luck to you on your appointment and have a great day.<br>( 7m 18s ) ERIKA: Thank you! you, too. <br>'\n",
    "s = '<p align=\"center\">Chat Started: Monday, November 02, 2020, 08:34:52 (-0500)</p>( 2s ) Hope: Hi, welcome to AdventHealth! I’m here to help you with any of the following options or to connect you with additional support.<br>( 4s ) Hope: What would you like help with?<br>( 6s ) Hope: {ChatWindowButton:COVID-19 Testing Reservations,Get Care Now,Access Medical Records,Talk with a Care Advocate}<br>( 35s ) BERYL: null<br>( 38s ) Hope: I’m happy to connect you with a Care Advocate. Just a few things to note: If you’re having a medical emergency, call 911 instead. Are you ready?<br>( 40s ) Hope: {ChatWindowButton:I&#39;m Ready,Never Mind}<br>( 45s ) BERYL: null<br>( 47s ) Hope: I am attempting to connect you now.<br><p align=\"center\">Agent Chatbot transferred the chat to QueueId 00G2M000003OwN3UAK</p><p align=\"center\">Chat Started: Monday, November 02, 2020, 08:35:46 (-0500)</p><p align=\"center\">Chat Origin: Coronavirus With Bot</p><p align=\"center\">Chat Transferred From Hope To Liza</p>( 54s ) Liza: Thank you for connecting with us. My name is Liza. How can I care for you today?<br>( 1m 57s ) BERYL: I have an appointment at 2:30 pm but don’t remember where it was.<br>( 2m 59s ) Liza: Good morning Beryl, I would be more than happy to assist you with that information.<br>( 5m 13s ) Liza: If you allow me just a moment to look at your account and see what upcoming appointments you have.<br>( 6m 8s ) BERYL: Thank you <br>( 7m 3s ) Liza: Is the appointment with a specialist or with your primary care provider?<br>( 7m 51s ) BERYL: I don’t know <br>( 8m 40s ) Liza: Ok, no problem! We&#39;ll do our best to find the right information!<br>( 11m 29s ) Liza: Thank you for your patience. I am seeing two appointments in the system. One is a virtual appointment scheduled for tomorrow Tuesday November 3rd with Dr. Shalimar Delgado Perez at 1:45 PM.<br>( 12m 59s ) Liza: The second appointment I see scheduled is for Wednesday November 4 at 3:20 PM with Advent Health Imaging in Winter Garden.<br>( 15m 30s ) Liza: Here is the address for the appointment on Wednesday. 2200 Fowler Grove Blvd Winter Garden, FL 34787. Phone number is 407-614-0565.<br>( 16m 34s ) Liza: It was a pleasure being able to help you today. I hope you have a wonderful rest of your day. Thank you for choosing Advent Health.<br>( 16m 51s ) BERYL: Thank you, for helping. Have a great day be safe.<br>( 21m 18s ) Liza: Correct, your virtual appointment is tomorrow at 1:45 PM.  The phone number for doctor Delgado-Perez is 407-646-7070.<br>( 21m 57s ) Liza: The other appointment is for Wednesday the 4th at 3:20. That one is in person at the Advent Health Imaging in Winter Garden.<br>( 25m 34s ) BERYL: I can’t find it. I have a Virtual one tomorrow at 1:45p.m. The other one is the 4th Advent Health Imaging 3:20pm Winter Garden 2200 Fowler Blvd. 34787<br>( 26m 15s ) Liza: Do you have the Advent Health app on your phone?<br>'\n",
    "s = '<p align=\"center\">Chat Started: Monday, November 02, 2020, 10:11:49 (-0500)</p>( 2s ) Hope: Hi, welcome to AdventHealth! I’m here to help you with any of the following options or to connect you with additional support.<br>( 4s ) Hope: What would you like help with?<br>( 6s ) Hope: {ChatWindowButton:COVID-19 Testing Reservations,Get Care Now,Access Medical Records,Talk with a Care Advocate}<br>( 1m 33s ) DENNIS: checking in to see what you can do about my us anesthesia bill of 1722.00. <br>( 1m 35s ) Hope: I apologize for not understanding you. I&#39;m still learning.<br>( 1m 37s ) Hope: What would you like help with?<br>( 1m 39s ) Hope: {ChatWindowButton:COVID-19 Testing Reservations,Get Care Now,Access Medical Records,Talk with a Care Advocate}<br>( 1m 50s ) DENNIS: null<br>( 1m 52s ) Hope: I’m happy to connect you with a Care Advocate. Just a few things to note: If you’re having a medical emergency, call 911 instead. Are you ready?<br>( 1m 54s ) Hope: {ChatWindowButton:I&#39;m Ready,Never Mind}<br>( 1m 56s ) DENNIS: null<br>( 1m 58s ) Hope: I am attempting to connect you now.<br><p align=\"center\">Agent Chatbot transferred the chat to QueueId 00G2M000003OwN3UAK</p><p align=\"center\">Chat Started: Monday, November 02, 2020, 10:13:54 (-0500)</p><p align=\"center\">Chat Origin: Coronavirus With Bot</p><p align=\"center\">Chat Transferred From Hope To Vivianne</p>( 2m 6s ) Vivianne: Thank you for connecting with us. My name is Vivianne. How can I care for you today?<br>( 3m 4s ) DENNIS: Emily told me to contact her today concerning a bill I received. <br>( 4m 41s ) Vivianne: To better assist you may I ask, Who is Emily?<br>( 6m 2s ) DENNIS: She contacted me thru the Carium app and said contact today would start thru this app. <br>( 6m 54s ) Vivianne: Awesome! I believe you are already in our system! Did you get a chance to update your app?<br>( 8m 57s ) DENNIS: I uploaded advent health app. what do you mean by update?<br>( 11m 36s ) Vivianne: May I get the name of your physician?<br>( 12m 18s ) DENNIS: Dr Conroy<br>( 13m 20s ) Vivianne: To confirm, is it Dr. Lauren Conroy?<br>( 13m 26s ) DENNIS: yes<br>( 15m 11s ) Vivianne: Thank you for this information.<br>( 16m 28s ) Vivianne: By updating the AdventHealth app, you will be able to connect to your Care Advocate.<br>( 16m 59s ) Vivianne: It will automatically route you through the enrollment process<br>( 18m 34s ) DENNIS: Ok thanks<br>( 19m 10s ) Vivianne: Did I address all your concerns today?<br>( 19m 25s ) DENNIS: yes<br>( 20m 2s ) Vivianne: Awesome! Have a wonderful day!<br>'\n",
    "#s = '<p align=\"center\">Chat Started: Monday, November 02, 2020, 17:42:56 (+0000)</p>( 2s ) Hope: Hi, welcome to AdventHealth! I’m here to help you with any of the following options or to connect you with additional support.<br>( 4s ) Hope: What would you like help with?<br>( 6s ) Hope: {ChatWindowButton:COVID-19 Testing Reservations,Get Care Now,Access Medical Records,Talk with a Care Advocate}<br>( 1m 0s ) Dorlen: I need a refill prescription for my medicine sent to Morgan’s Pharmacy <br>( 1m 2s ) Hope: I apologize for not understanding you. I&#39;m still learning.<br>( 1m 4s ) Hope: What would you like help with?<br>( 1m 6s ) Hope: {ChatWindowButton:COVID-19 Testing Reservations,Get Care Now,Access Medical Records,Talk with a Care Advocate}<br>( 1m 20s ) Dorlen: null<br>( 1m 22s ) Hope: I’m happy to connect you with a Care Advocate. Just a few things to note: If you’re having a medical emergency, call 911 instead. Are you ready?<br>( 1m 24s ) Hope: {ChatWindowButton:I&#39;m Ready,Never Mind}<br>( 1m 32s ) Dorlen: null<br>( 1m 34s ) Hope: I am attempting to connect you now.<br><p align=\"center\">Agent Chatbot transferred the chat to QueueId 00G2M000003OwN3UAK</p>'"
   ]
  },
  {
   "cell_type": "code",
   "execution_count": 73,
   "metadata": {},
   "outputs": [
    {
     "name": "stdout",
     "output_type": "stream",
     "text": [
      "1398 1451\n",
      "Vivianne\n",
      "String\n",
      "Vivianne\n",
      "\n"
     ]
    }
   ],
   "source": [
    "import re\n",
    "#delim = \"How can I care for you today?\"\n",
    "start = \"Thank you for connecting with us. My name is \"\n",
    "delim = \". How can I care for you today?\"\n",
    "print(s.find(start), s.find(delim))\n",
    "ca_name = s[s.find(start)+len(start):s.find(delim)]\n",
    "print(ca_name)\n",
    "if len(ca_name) > 0:\n",
    "    print(\"String\")\n",
    "print(ca_name)\n",
    "s = str(s)[s.find(delim)+len(delim):]\n",
    "s = s.replace('<br>', '\\n')\n",
    "#? in regex is for the closest match of '>' or ')'\n",
    "s = re.sub('<.*?>|\\(.*?\\)', '', s)\n",
    "s = re.sub(ca_name + \":(.*?)\\n\", \"\", s)\n",
    "#df['Message'] = df['Message'].apply(lambda text: re.sub(r'[^a-z0-9A-Z\\s]+','', str(text)))\n",
    "print(s)"
   ]
  },
  {
   "cell_type": "code",
   "execution_count": 10,
   "metadata": {},
   "outputs": [],
   "source": [
    "import csv\n",
    "f = open(\"sample.csv\", \"w\")\n",
    "writer = csv.writer(f, quoting=csv.QUOTE_ALL)\n",
    "#writer.writerows([[\"a\", 1], [\"b\", 2]])\n",
    "writer.writerows([[999], [12], [3330333333333399999999999999999]])\n",
    "f.close()"
   ]
  },
  {
   "cell_type": "code",
   "execution_count": 9,
   "metadata": {},
   "outputs": [
    {
     "name": "stdout",
     "output_type": "stream",
     "text": [
      "                         large_num\n",
      "0                              999\n",
      "1                               12\n",
      "2  3330333333333399999999999999999\n",
      "                         large_num\n",
      "0                              999\n",
      "1                               12\n",
      "2  3330333333333399999999999999999\n",
      "[1001, 14, 3330333333333400000000000000001]\n",
      "                         large_num\n",
      "0                              999\n",
      "1                               12\n",
      "2  3330333333333399999999999999999\n",
      "3330333333333400000000000000002\n"
     ]
    }
   ],
   "source": [
    "import pandas as pd\n",
    "import csv\n",
    "df = pd.DataFrame([[999], [12], [3330333333333399999999999999999]], columns=['large_num'])\n",
    "df['large_num'] = df['large_num'].astype(str).astype('string')\n",
    "df.to_csv('temp.csv')\n",
    "print(df.head())\n",
    "\n",
    "df1 = pd.read_csv('temp.csv', dtype = object, index_col=0)\n",
    "print(df1.head())\n",
    "print([int(i) + 2 for i in df1['large_num']])\n",
    "\n",
    "df2 = pd.read_csv('temp.csv', converters={0:str}, index_col=0)\n",
    "print(df2.head())\n",
    "print(int(df2['large_num'][2]) + 3)"
   ]
  },
  {
   "cell_type": "code",
   "execution_count": 2,
   "metadata": {},
   "outputs": [
    {
     "data": {
      "text/plain": [
       "112"
      ]
     },
     "execution_count": 2,
     "metadata": {},
     "output_type": "execute_result"
    }
   ],
   "source": [
    "len(\"p align center Chat Started  Monday  November 02  2020  10 11 49  0500 p  2s   Hope  Hi  welcome to AdventHealth\")"
   ]
  },
  {
   "cell_type": "code",
   "execution_count": 99,
   "metadata": {},
   "outputs": [
    {
     "data": {
      "text/plain": [
       "'p align center Chat Started  Monday  November 02  2020  10 11 49  0500 p  2s   Hope  Hi  welcome to AdventHealth  I m here to help you with any of the following options or to connect you with additional support br  4s   Hope  What would you like help with br  6s   Hope   ChatWindowButton COVID 19 Testing Reservations Get Care Now Access Medical Records Talk with a Care Advocate br  1m 33s   DENNIS  checking in to see what you can do about my us anesthesia bill of 1722 00   br  1m 35s   Hope  I apologize for not understanding you  I 39 m still learning br  1m 37s   Hope  What would you like help with br  1m 39s   Hope   ChatWindowButton COVID 19 Testing Reservations Get Care Now Access Medical Records Talk with a Care Advocate br  1m 50s   DENNIS  null br  1m 52s   Hope  I m happy to connect you with a Care Advocate  Just a few things to note  If you re having a medical emergency  call 911 instead  Are you ready br  1m 54s   Hope   ChatWindowButton I 39 m Ready Never Mind br  1m 56s   DENNIS  null br  1m 58s   Hope  I am attempting to connect you now br p align center Agent Chatbot transferred the chat to QueueId 00G2M000003OwN3UAK p p align center Chat Started  Monday  November 02  2020  10 13 54  0500 p p align center Chat Origin  Coronavirus With Bot p p align center Chat Transferred From Hope To Vivianne p  2m 6s   Vivianne  Thank you for connecting with us  My name is Vivianne  How can I care for you today br  3m 4s   DENNIS  Emily told me to contact her today concerning a bill I received   br  4m 41s   Vivianne  To better assist you may I ask  Who is Emily br  6m 2s   DENNIS  She contacted me thru the Carium app and said contact today would start thru this app   br  6m 54s   Vivianne  Awesome  I believe you are already in our system  Did you get a chance to update your app br  8m 57s   DENNIS  I uploaded advent health app  what do you mean by update br  11m 36s   Vivianne  May I get the name of your physician br  12m 18s   DENNIS  Dr Conroy br  13m 20s   Vivianne  To confirm  is it Dr  Lauren Conroy br  13m 26s   DENNIS  yes br  15m 11s   Vivianne  Thank you for this information br  16m 28s   Vivianne  By updating the AdventHealth app  you will be able to connect to your Care Advocate br  16m 59s   Vivianne  It will automatically route you through the enrollment process br  18m 34s   DENNIS  Ok thanks br  19m 10s   Vivianne  Did I address all your concerns today br  19m 25s   DENNIS  yes br  20m 2s   Vivianne  Awesome  Have a wonderful day br'"
      ]
     },
     "execution_count": 99,
     "metadata": {},
     "output_type": "execute_result"
    }
   ],
   "source": [
    "re.sub(r'[^a-z0-9A-Z\\s]+',' ', s).strip()"
   ]
  },
  {
   "cell_type": "code",
   "execution_count": 34,
   "metadata": {},
   "outputs": [
    {
     "name": "stdout",
     "output_type": "stream",
     "text": [
      "\n"
     ]
    }
   ],
   "source": [
    "ca_name = \"Vivianne\"\n",
    "s1 = s.replace('<br>', ' \\n')\n",
    "s1 = ''\n",
    "z = re.sub(ca_name + \":(.*?)\\n\", \"\", s1)\n",
    "print(z)"
   ]
  },
  {
   "cell_type": "code",
   "execution_count": 4,
   "metadata": {},
   "outputs": [
    {
     "name": "stdout",
     "output_type": "stream",
     "text": [
      "1.0.5\n"
     ]
    }
   ],
   "source": [
    "print(pd.__version__)"
   ]
  },
  {
   "cell_type": "code",
   "execution_count": null,
   "metadata": {},
   "outputs": [],
   "source": [
    "! pip install pandas --upgrade"
   ]
  },
  {
   "cell_type": "code",
   "execution_count": 5,
   "metadata": {},
   "outputs": [
    {
     "data": {
      "text/plain": [
       "123"
      ]
     },
     "execution_count": 5,
     "metadata": {},
     "output_type": "execute_result"
    }
   ],
   "source": [
    "int(123.4)"
   ]
  },
  {
   "cell_type": "code",
   "execution_count": 1,
   "metadata": {},
   "outputs": [
    {
     "data": {
      "text/plain": [
       "\"[2, 3, 'df']\""
      ]
     },
     "execution_count": 1,
     "metadata": {},
     "output_type": "execute_result"
    }
   ],
   "source": [
    "str([2,3,'df'])"
   ]
  },
  {
   "cell_type": "code",
   "execution_count": 6,
   "metadata": {},
   "outputs": [
    {
     "data": {
      "text/plain": [
       "'junk'"
      ]
     },
     "execution_count": 6,
     "metadata": {},
     "output_type": "execute_result"
    }
   ],
   "source": [
    "from shutil import copyfile\n",
    "copyfile(\"test.ipynb\", \"junk\")"
   ]
  },
  {
   "cell_type": "code",
   "execution_count": 1,
   "metadata": {},
   "outputs": [
    {
     "name": "stdout",
     "output_type": "stream",
     "text": [
      "10 1 2 3 4 20\n"
     ]
    }
   ],
   "source": [
    "def fun(x, a, b, c, d, y):\n",
    "    print(x, a, b, c, d, y)\n",
    " \n",
    "# Driver Code\n",
    "my_list = [1, 2, 3, 4]\n",
    " \n",
    "# Unpacking list into four arguments\n",
    "fun(10, *my_list, 20)"
   ]
  },
  {
   "cell_type": "code",
   "execution_count": 1,
   "metadata": {},
   "outputs": [
    {
     "name": "stdout",
     "output_type": "stream",
     "text": [
      "def \n"
     ]
    }
   ],
   "source": [
    "msgs = msgs_clean = \"\"\n",
    "msgs = \"def\"\n",
    "print(msgs, msgs_clean)"
   ]
  },
  {
   "cell_type": "code",
   "execution_count": 6,
   "metadata": {},
   "outputs": [
    {
     "name": "stdout",
     "output_type": "stream",
     "text": [
      "2 3\n"
     ]
    }
   ],
   "source": [
    "[x,r]=[2,3]\n",
    "print(x,r)"
   ]
  },
  {
   "cell_type": "code",
   "execution_count": 3,
   "metadata": {},
   "outputs": [
    {
     "name": "stdout",
     "output_type": "stream",
     "text": [
      "[2 1]\n"
     ]
    },
    {
     "data": {
      "text/plain": [
       "array([9, 7], dtype=int64)"
      ]
     },
     "execution_count": 3,
     "metadata": {},
     "output_type": "execute_result"
    }
   ],
   "source": [
    "# indices of top two elements\n",
    "arr = np.array([5,6,7,2,1,9,23,44,8,45,2,6])\n",
    "print(arr[3:5])\n",
    "(-arr).argsort()[:2]"
   ]
  },
  {
   "cell_type": "code",
   "execution_count": 2,
   "metadata": {},
   "outputs": [
    {
     "data": {
      "text/plain": [
       "'d,rt,we'"
      ]
     },
     "execution_count": 2,
     "metadata": {},
     "output_type": "execute_result"
    }
   ],
   "source": [
    "\",\".join(['d','rt','we'])"
   ]
  },
  {
   "cell_type": "code",
   "execution_count": 3,
   "metadata": {},
   "outputs": [],
   "source": [
    "both = True\n",
    "if both==False:\n",
    "    print(\"a\")"
   ]
  },
  {
   "cell_type": "code",
   "execution_count": 5,
   "metadata": {},
   "outputs": [
    {
     "data": {
      "text/plain": [
       "['']"
      ]
     },
     "execution_count": 5,
     "metadata": {},
     "output_type": "execute_result"
    }
   ],
   "source": [
    "''.split(' ')"
   ]
  },
  {
   "cell_type": "code",
   "execution_count": 3,
   "metadata": {},
   "outputs": [
    {
     "name": "stdout",
     "output_type": "stream",
     "text": [
      "Index(['bb Text', 'aaabb'], dtype='object')\n",
      "[2 3]\n"
     ]
    }
   ],
   "source": [
    "columns=[\"Id\", \"bb Text\", \"aaabb\", \"bbb\"]\n",
    "df = pd.DataFrame(columns=columns)\n",
    "df.loc[0] = [1,2,3,4]\n",
    "print(df.columns[1:3])\n",
    "for index, row in df.iterrows():\n",
    "    print(row.values[1:3])"
   ]
  },
  {
   "cell_type": "code",
   "execution_count": 9,
   "metadata": {},
   "outputs": [
    {
     "name": "stdout",
     "output_type": "stream",
     "text": [
      "[12  2  3]\n"
     ]
    }
   ],
   "source": [
    "print(pd.Series([12,2,2,3]).unique())"
   ]
  },
  {
   "cell_type": "code",
   "execution_count": 12,
   "metadata": {},
   "outputs": [
    {
     "name": "stdout",
     "output_type": "stream",
     "text": [
      "['a', 'b', 'c', 34, 5, 6, 7]\n"
     ]
    }
   ],
   "source": [
    "import itertools\n",
    "a = [['a','b'], ['c'], [34, 5, 6, 7]]\n",
    "print(list(itertools.chain.from_iterable(a)))"
   ]
  },
  {
   "cell_type": "code",
   "execution_count": 7,
   "metadata": {},
   "outputs": [
    {
     "name": "stdout",
     "output_type": "stream",
     "text": [
      "True\n",
      "Injury of muscle, fascia and tendon at lower leg level\n"
     ]
    }
   ],
   "source": [
    "import simple_icd_10 as icd\n",
    "import icd10\n",
    "\n",
    "print(icd.is_valid_code(\"S86\"))\n",
    "code = icd10.find(\"S86\")\n",
    "print(code.description)         # Acute bronchitis due to Mycoplasma pneumoniae"
   ]
  },
  {
   "cell_type": "code",
   "execution_count": 23,
   "metadata": {},
   "outputs": [
    {
     "ename": "ValueError",
     "evalue": "S8 is not a valid ICD-10 code.",
     "output_type": "error",
     "traceback": [
      "\u001b[1;31m---------------------------------------------------------------------------\u001b[0m",
      "\u001b[1;31mValueError\u001b[0m                                Traceback (most recent call last)",
      "\u001b[1;32m<ipython-input-23-d23691671696>\u001b[0m in \u001b[0;36m<module>\u001b[1;34m\u001b[0m\n\u001b[1;32m----> 1\u001b[1;33m \u001b[1;32mfor\u001b[0m \u001b[0mcode_str\u001b[0m \u001b[1;32min\u001b[0m \u001b[0micd\u001b[0m\u001b[1;33m.\u001b[0m\u001b[0mget_descendants\u001b[0m\u001b[1;33m(\u001b[0m\u001b[1;34m\"S8\"\u001b[0m\u001b[1;33m)\u001b[0m\u001b[1;33m:\u001b[0m\u001b[1;33m\u001b[0m\u001b[1;33m\u001b[0m\u001b[0m\n\u001b[0m\u001b[0;32m      2\u001b[0m     \u001b[1;32mif\u001b[0m \u001b[0micd\u001b[0m\u001b[1;33m.\u001b[0m\u001b[0mis_valid_code\u001b[0m\u001b[1;33m(\u001b[0m\u001b[0mcode_str\u001b[0m\u001b[1;33m)\u001b[0m \u001b[1;32mand\u001b[0m \u001b[0micd10\u001b[0m\u001b[1;33m.\u001b[0m\u001b[0mfind\u001b[0m\u001b[1;33m(\u001b[0m\u001b[0mcode_str\u001b[0m\u001b[1;33m)\u001b[0m \u001b[1;33m!=\u001b[0m \u001b[1;32mNone\u001b[0m\u001b[1;33m:\u001b[0m\u001b[1;33m\u001b[0m\u001b[1;33m\u001b[0m\u001b[0m\n\u001b[0;32m      3\u001b[0m         \u001b[0mprint\u001b[0m\u001b[1;33m(\u001b[0m\u001b[0mcode_str\u001b[0m\u001b[1;33m,\u001b[0m \u001b[0micd10\u001b[0m\u001b[1;33m.\u001b[0m\u001b[0mfind\u001b[0m\u001b[1;33m(\u001b[0m\u001b[0mcode_str\u001b[0m\u001b[1;33m)\u001b[0m\u001b[1;33m.\u001b[0m\u001b[0mdescription\u001b[0m\u001b[1;33m)\u001b[0m\u001b[1;33m\u001b[0m\u001b[1;33m\u001b[0m\u001b[0m\n",
      "\u001b[1;32m~\\anaconda3\\lib\\site-packages\\simple_icd_10\\simple_icd_10.py\u001b[0m in \u001b[0;36mget_descendants\u001b[1;34m(code)\u001b[0m\n\u001b[0;32m    118\u001b[0m \u001b[1;32mdef\u001b[0m \u001b[0mget_descendants\u001b[0m\u001b[1;33m(\u001b[0m\u001b[0mcode\u001b[0m\u001b[1;33m)\u001b[0m\u001b[1;33m:\u001b[0m\u001b[1;33m\u001b[0m\u001b[1;33m\u001b[0m\u001b[0m\n\u001b[0;32m    119\u001b[0m     \u001b[1;32mif\u001b[0m \u001b[1;32mnot\u001b[0m \u001b[0mis_valid_item\u001b[0m\u001b[1;33m(\u001b[0m\u001b[0mcode\u001b[0m\u001b[1;33m)\u001b[0m\u001b[1;33m:\u001b[0m\u001b[1;33m\u001b[0m\u001b[1;33m\u001b[0m\u001b[0m\n\u001b[1;32m--> 120\u001b[1;33m         \u001b[1;32mraise\u001b[0m \u001b[0mValueError\u001b[0m\u001b[1;33m(\u001b[0m\u001b[0mcode\u001b[0m\u001b[1;33m+\u001b[0m\u001b[1;34m\" is not a valid ICD-10 code.\"\u001b[0m\u001b[1;33m)\u001b[0m\u001b[1;33m\u001b[0m\u001b[1;33m\u001b[0m\u001b[0m\n\u001b[0m\u001b[0;32m    121\u001b[0m     \u001b[0mcode\u001b[0m \u001b[1;33m=\u001b[0m \u001b[0m_remove_dot\u001b[0m\u001b[1;33m(\u001b[0m\u001b[0mcode\u001b[0m\u001b[1;33m)\u001b[0m\u001b[1;33m\u001b[0m\u001b[1;33m\u001b[0m\u001b[0m\n\u001b[0;32m    122\u001b[0m     \u001b[1;32mif\u001b[0m \u001b[0muse_memoization\u001b[0m\u001b[1;33m:\u001b[0m\u001b[1;33m\u001b[0m\u001b[1;33m\u001b[0m\u001b[0m\n",
      "\u001b[1;31mValueError\u001b[0m: S8 is not a valid ICD-10 code."
     ]
    }
   ],
   "source": [
    "for code_str in icd.get_descendants(\"S86\"):\n",
    "    if icd.is_valid_code(code_str) and icd10.find(code_str) != None:\n",
    "        print(code_str, icd10.find(code_str).description)"
   ]
  },
  {
   "cell_type": "code",
   "execution_count": 43,
   "metadata": {},
   "outputs": [
    {
     "name": "stdout",
     "output_type": "stream",
     "text": [
      "J01.0 Acute maxillary sinusitis\n",
      "J01.1 Acute frontal sinusitis\n",
      "J01.2 Acute ethmoidal sinusitis\n",
      "J01.3 Acute sphenoidal sinusitis\n",
      "J01.4 Acute pansinusitis\n",
      "J01.8 Other acute sinusitis\n",
      "J01.9 Acute sinusitis, unspecified\n",
      "J02.0 Streptococcal pharyngitis\n",
      "J02.8 Acute pharyngitis due to other specified organisms\n",
      "J02.9 Acute pharyngitis, unspecified\n",
      "J03.0 Streptococcal tonsillitis\n",
      "J03.8 Acute tonsillitis due to other specified organisms\n",
      "J03.9 Acute tonsillitis, unspecified\n",
      "J04.0 Acute laryngitis\n",
      "J04.1 Acute tracheitis\n",
      "J04.2 Acute laryngotracheitis\n",
      "J05.0 Acute obstructive laryngitis [croup]\n",
      "J05.1 Acute epiglottitis\n",
      "J06.0 Acute laryngopharyngitis\n",
      "J06.9 Acute upper respiratory infection, unspecified\n",
      "J10.0 Influenza due to other identified influenza virus with pneumonia\n",
      "J10.1 Influenza due to other identified influenza virus with other respiratory manifestations\n",
      "J10.8 Influenza due to other identified influenza virus with other manifestations\n",
      "J11.0 Influenza due to unidentified influenza virus with pneumonia\n",
      "J11.1 Influenza due to unidentified influenza virus with other respiratory manifestations\n",
      "J11.8 Influenza due to unidentified influenza virus with other manifestations\n",
      "J12.0 Adenoviral pneumonia\n",
      "J12.1 Respiratory syncytial virus pneumonia\n",
      "J12.2 Parainfluenza virus pneumonia\n",
      "J12.3 Human metapneumovirus pneumonia\n",
      "J12.8 Other viral pneumonia\n",
      "J12.9 Viral pneumonia, unspecified\n",
      "J15.0 Pneumonia due to Klebsiella pneumoniae\n",
      "J15.1 Pneumonia due to Pseudomonas\n",
      "J15.2 Pneumonia due to staphylococcus\n",
      "J15.3 Pneumonia due to streptococcus, group B\n",
      "J15.4 Pneumonia due to other streptococci\n",
      "J15.5 Pneumonia due to Escherichia coli\n",
      "J15.6 Pneumonia due to other Gram-negative bacteria\n",
      "J15.7 Pneumonia due to Mycoplasma pneumoniae\n",
      "J15.8 Pneumonia due to other specified bacteria\n",
      "J15.9 Unspecified bacterial pneumonia\n",
      "J16.0 Chlamydial pneumonia\n",
      "J16.8 Pneumonia due to other specified infectious organisms\n",
      "J18.0 Bronchopneumonia, unspecified organism\n",
      "J18.1 Lobar pneumonia, unspecified organism\n",
      "J18.2 Hypostatic pneumonia, unspecified organism\n",
      "J18.8 Other pneumonia, unspecified organism\n",
      "J18.9 Pneumonia, unspecified organism\n",
      "J20.0 Acute bronchitis due to Mycoplasma pneumoniae\n",
      "J20.1 Acute bronchitis due to Hemophilus influenzae\n",
      "J20.2 Acute bronchitis due to streptococcus\n",
      "J20.3 Acute bronchitis due to coxsackievirus\n",
      "J20.4 Acute bronchitis due to parainfluenza virus\n",
      "J20.5 Acute bronchitis due to respiratory syncytial virus\n",
      "J20.6 Acute bronchitis due to rhinovirus\n",
      "J20.7 Acute bronchitis due to echovirus\n",
      "J20.8 Acute bronchitis due to other specified organisms\n",
      "J20.9 Acute bronchitis, unspecified\n",
      "J21.0 Acute bronchiolitis due to respiratory syncytial virus\n",
      "J21.1 Acute bronchiolitis due to human metapneumovirus\n",
      "J21.8 Acute bronchiolitis due to other specified organisms\n",
      "J21.9 Acute bronchiolitis, unspecified\n",
      "J30.0 Vasomotor rhinitis\n",
      "J30.1 Allergic rhinitis due to pollen\n",
      "J30.2 Other seasonal allergic rhinitis\n",
      "J31.0 Chronic rhinitis\n",
      "J31.1 Chronic nasopharyngitis\n",
      "J31.2 Chronic pharyngitis\n",
      "J32.0 Chronic maxillary sinusitis\n",
      "J32.1 Chronic frontal sinusitis\n",
      "J32.2 Chronic ethmoidal sinusitis\n",
      "J32.3 Chronic sphenoidal sinusitis\n",
      "J32.4 Chronic pansinusitis\n",
      "J32.8 Other chronic sinusitis\n",
      "J32.9 Chronic sinusitis, unspecified\n",
      "J33.0 Polyp of nasal cavity\n",
      "J33.1 Polypoid sinus degeneration\n",
      "J33.8 Other polyp of sinus\n",
      "J33.9 Nasal polyp, unspecified\n",
      "J34.0 Abscess, furuncle and carbuncle of nose\n",
      "J34.1 Cyst and mucocele of nose and nasal sinus\n",
      "J34.2 Deviated nasal septum\n",
      "J34.3 Hypertrophy of nasal turbinates\n",
      "J34.8 Other specified disorders of nose and nasal sinuses\n",
      "J35.0 Chronic tonsillitis and adenoiditis\n",
      "J35.1 Hypertrophy of tonsils\n",
      "J35.2 Hypertrophy of adenoids\n",
      "J35.3 Hypertrophy of tonsils with hypertrophy of adenoids\n",
      "J35.8 Other chronic diseases of tonsils and adenoids\n",
      "J35.9 Chronic disease of tonsils and adenoids, unspecified\n",
      "J37.0 Chronic laryngitis\n",
      "J37.1 Chronic laryngotracheitis\n",
      "J38.0 Paralysis of vocal cords and larynx\n",
      "J38.1 Polyp of vocal cord and larynx\n",
      "J38.2 Nodules of vocal cords\n",
      "J38.3 Other diseases of vocal cords\n",
      "J38.4 Edema of larynx\n",
      "J38.5 Laryngeal spasm\n",
      "J38.6 Stenosis of larynx\n",
      "J38.7 Other diseases of larynx\n",
      "J39.0 Retropharyngeal and parapharyngeal abscess\n",
      "J39.1 Other abscess of pharynx\n",
      "J39.2 Other diseases of pharynx\n",
      "J39.3 Upper respiratory tract hypersensitivity reaction, site unspecified\n",
      "J39.8 Other specified diseases of upper respiratory tract\n",
      "J39.9 Disease of upper respiratory tract, unspecified\n",
      "J41.0 Simple chronic bronchitis\n",
      "J41.1 Mucopurulent chronic bronchitis\n",
      "J41.8 Mixed simple and mucopurulent chronic bronchitis\n",
      "J43.0 Unilateral pulmonary emphysema [MacLeod's syndrome]\n",
      "J43.1 Panlobular emphysema\n",
      "J43.2 Centrilobular emphysema\n",
      "J43.8 Other emphysema\n",
      "J43.9 Emphysema, unspecified\n",
      "J44.0 Chronic obstructive pulmonary disease with acute lower respiratory infection\n",
      "J44.1 Chronic obstructive pulmonary disease with (acute) exacerbation\n",
      "J44.9 Chronic obstructive pulmonary disease, unspecified\n",
      "J45.9 Other and unspecified asthma\n",
      "J62.0 Pneumoconiosis due to talc dust\n",
      "J62.8 Pneumoconiosis due to other dust containing silica\n",
      "J63.0 Aluminosis (of lung)\n",
      "J63.1 Bauxite fibrosis (of lung)\n",
      "J63.2 Berylliosis\n",
      "J63.3 Graphite fibrosis (of lung)\n",
      "J63.4 Siderosis\n",
      "J63.5 Stannosis\n",
      "J66.0 Byssinosis\n",
      "J66.1 Flax-dressers' disease\n",
      "J66.2 Cannabinosis\n",
      "J66.8 Airway disease due to other specific organic dusts\n",
      "J67.0 Farmer's lung\n",
      "J67.1 Bagassosis\n",
      "J67.2 Bird fancier's lung\n",
      "J67.3 Suberosis\n",
      "J67.4 Maltworker's lung\n",
      "J67.5 Mushroom-worker's lung\n",
      "J67.6 Maple-bark-stripper's lung\n",
      "J67.7 Air conditioner and humidifier lung\n",
      "J67.8 Hypersensitivity pneumonitis due to other organic dusts\n",
      "J67.9 Hypersensitivity pneumonitis due to unspecified organic dust\n",
      "J68.0 Bronchitis and pneumonitis due to chemicals, gases, fumes and vapors\n",
      "J68.1 Pulmonary edema due to chemicals, gases, fumes and vapors\n",
      "J68.2 Upper respiratory inflammation due to chemicals, gases, fumes and vapors, not elsewhere classified\n",
      "J68.3 Other acute and subacute respiratory conditions due to chemicals, gases, fumes and vapors\n",
      "J68.4 Chronic respiratory conditions due to chemicals, gases, fumes and vapors\n",
      "J68.8 Other respiratory conditions due to chemicals, gases, fumes and vapors\n",
      "J68.9 Unspecified respiratory condition due to chemicals, gases, fumes and vapors\n",
      "J69.0 Pneumonitis due to inhalation of food and vomit\n",
      "J69.1 Pneumonitis due to inhalation of oils and essences\n",
      "J69.8 Pneumonitis due to inhalation of other solids and liquids\n",
      "J70.0 Acute pulmonary manifestations due to radiation\n",
      "J70.1 Chronic and other pulmonary manifestations due to radiation\n",
      "J70.2 Acute drug-induced interstitial lung disorders\n",
      "J70.3 Chronic drug-induced interstitial lung disorders\n",
      "J70.4 Drug-induced interstitial lung disorders, unspecified\n",
      "J70.8 Respiratory conditions due to other specified external agents\n",
      "J70.9 Respiratory conditions due to unspecified external agent\n",
      "J84.0 Alveolar and parieto-alveolar conditions\n",
      "J84.1 Other interstitial pulmonary diseases with fibrosis\n",
      "J84.8 Other specified interstitial pulmonary diseases\n",
      "J84.9 Interstitial pulmonary disease, unspecified\n",
      "J85.0 Gangrene and necrosis of lung\n",
      "J85.1 Abscess of lung with pneumonia\n",
      "J85.2 Abscess of lung without pneumonia\n",
      "J85.3 Abscess of mediastinum\n",
      "J86.0 Pyothorax with fistula\n",
      "J86.9 Pyothorax without fistula\n",
      "J92.0 Pleural plaque with presence of asbestos\n",
      "J92.9 Pleural plaque without asbestos\n",
      "J93.0 Spontaneous tension pneumothorax\n",
      "J93.1 Other spontaneous pneumothorax\n",
      "J93.8 Other pneumothorax and air leak\n",
      "J93.9 Pneumothorax, unspecified\n",
      "J94.0 Chylous effusion\n",
      "J94.1 Fibrothorax\n",
      "J94.2 Hemothorax\n",
      "J94.8 Other specified pleural conditions\n",
      "J94.9 Pleural condition, unspecified\n",
      "J95.0 Tracheostomy complications\n",
      "J95.1 Acute pulmonary insufficiency following thoracic surgery\n",
      "J95.2 Acute pulmonary insufficiency following nonthoracic surgery\n",
      "J95.3 Chronic pulmonary insufficiency following surgery\n",
      "J95.4 Chemical pneumonitis due to anesthesia\n",
      "J95.5 Postprocedural subglottic stenosis\n",
      "J95.8 Other intraoperative and postprocedural complications and disorders of respiratory system, not elsewhere classified\n",
      "J96.0 Acute respiratory failure\n",
      "J96.1 Chronic respiratory failure\n",
      "J96.9 Respiratory failure, unspecified\n",
      "J98.0 Diseases of bronchus, not elsewhere classified\n",
      "J98.1 Pulmonary collapse\n",
      "J98.2 Interstitial emphysema\n",
      "J98.3 Compensatory emphysema\n",
      "J98.4 Other disorders of lung\n",
      "J98.5 Diseases of mediastinum, not elsewhere classified\n",
      "J98.6 Disorders of diaphragm\n",
      "J98.8 Other specified respiratory disorders\n",
      "J98.9 Respiratory disorder, unspecified\n"
     ]
    }
   ],
   "source": [
    "import simple_icd_10 as icd\n",
    "import icd10\n",
    "import regex as re\n",
    "\n",
    "for code_str in icd.get_all_codes(True):\n",
    "    if icd10.find(code_str) != None:\n",
    "        desc = icd10.find(code_str).description\n",
    "        match = re.search(r'J..\\.', code_str)\n",
    "        #if \"injury\" in desc:\n",
    "        if match:\n",
    "            print(code_str, desc)"
   ]
  },
  {
   "cell_type": "code",
   "execution_count": 44,
   "metadata": {},
   "outputs": [
    {
     "name": "stdout",
     "output_type": "stream",
     "text": [
      "12542\n"
     ]
    }
   ],
   "source": [
    "print(len(icd.get_all_codes(True)))"
   ]
  },
  {
   "cell_type": "code",
   "execution_count": 10,
   "metadata": {},
   "outputs": [
    {
     "name": "stdout",
     "output_type": "stream",
     "text": [
      "0\n"
     ]
    }
   ],
   "source": [
    "print((datetime.today().date() - datetime.today().date()).days)"
   ]
  },
  {
   "cell_type": "code",
   "execution_count": 1,
   "metadata": {},
   "outputs": [
    {
     "name": "stdout",
     "output_type": "stream",
     "text": [
      "[2, 3, 3]\n"
     ]
    }
   ],
   "source": [
    "x = [2,3]\n",
    "x.append(3)\n",
    "print(x)"
   ]
  },
  {
   "cell_type": "code",
   "execution_count": 25,
   "metadata": {},
   "outputs": [
    {
     "data": {
      "text/plain": [
       "array([[1, 1, 1, 2, 2, 2],\n",
       "       [3, 3, 3, 4, 4, 4]])"
      ]
     },
     "execution_count": 25,
     "metadata": {},
     "output_type": "execute_result"
    }
   ],
   "source": [
    "img = np.array([[1,2],[3,4]])\n",
    "np.repeat(img[..., np.newaxis],3,-1)\n",
    "np.repeat(img,3,1)"
   ]
  },
  {
   "cell_type": "code",
   "execution_count": 1,
   "metadata": {},
   "outputs": [
    {
     "data": {
      "text/plain": [
       "'g'"
      ]
     },
     "execution_count": 1,
     "metadata": {},
     "output_type": "execute_result"
    }
   ],
   "source": [
    "\"s/d/f/g\".split(\"/\")[-1]"
   ]
  },
  {
   "cell_type": "code",
   "execution_count": 1,
   "metadata": {},
   "outputs": [
    {
     "name": "stdout",
     "output_type": "stream",
     "text": [
      "[4, 6, 2]\n",
      "[4, 6, 2]\n",
      "[4, 6, 2]\n"
     ]
    }
   ],
   "source": [
    "# Three ways to double a list\n",
    "x = [2,3,1]\n",
    "\n",
    "print([2*y for y in x])\n",
    "\n",
    "l = []\n",
    "for y in x:\n",
    "    l.append(2*y)\n",
    "print(l)\n",
    "\n",
    "import numpy as np\n",
    "print(list(2 * np.array(x)))"
   ]
  },
  {
   "cell_type": "code",
   "execution_count": 8,
   "metadata": {},
   "outputs": [
    {
     "data": {
      "text/html": [
       "<div>\n",
       "<style scoped>\n",
       "    .dataframe tbody tr th:only-of-type {\n",
       "        vertical-align: middle;\n",
       "    }\n",
       "\n",
       "    .dataframe tbody tr th {\n",
       "        vertical-align: top;\n",
       "    }\n",
       "\n",
       "    .dataframe thead th {\n",
       "        text-align: right;\n",
       "    }\n",
       "</style>\n",
       "<table border=\"1\" class=\"dataframe\">\n",
       "  <thead>\n",
       "    <tr style=\"text-align: right;\">\n",
       "      <th></th>\n",
       "      <th>a</th>\n",
       "    </tr>\n",
       "  </thead>\n",
       "  <tbody>\n",
       "    <tr>\n",
       "      <th>0</th>\n",
       "      <td>2</td>\n",
       "    </tr>\n",
       "    <tr>\n",
       "      <th>1</th>\n",
       "      <td>3</td>\n",
       "    </tr>\n",
       "    <tr>\n",
       "      <th>2</th>\n",
       "      <td>5</td>\n",
       "    </tr>\n",
       "  </tbody>\n",
       "</table>\n",
       "</div>"
      ],
      "text/plain": [
       "   a\n",
       "0  2\n",
       "1  3\n",
       "2  5"
      ]
     },
     "execution_count": 8,
     "metadata": {},
     "output_type": "execute_result"
    }
   ],
   "source": [
    "x=pd.DataFrame([2,3,5], columns=['a'])\n",
    "x.head()"
   ]
  },
  {
   "cell_type": "code",
   "execution_count": 13,
   "metadata": {},
   "outputs": [
    {
     "data": {
      "text/html": [
       "<div>\n",
       "<style scoped>\n",
       "    .dataframe tbody tr th:only-of-type {\n",
       "        vertical-align: middle;\n",
       "    }\n",
       "\n",
       "    .dataframe tbody tr th {\n",
       "        vertical-align: top;\n",
       "    }\n",
       "\n",
       "    .dataframe thead th {\n",
       "        text-align: right;\n",
       "    }\n",
       "</style>\n",
       "<table border=\"1\" class=\"dataframe\">\n",
       "  <thead>\n",
       "    <tr style=\"text-align: right;\">\n",
       "      <th></th>\n",
       "      <th>a</th>\n",
       "      <th>c</th>\n",
       "      <th>d</th>\n",
       "    </tr>\n",
       "  </thead>\n",
       "  <tbody>\n",
       "    <tr>\n",
       "      <th>0</th>\n",
       "      <td>2</td>\n",
       "      <td>2</td>\n",
       "      <td>2</td>\n",
       "    </tr>\n",
       "    <tr>\n",
       "      <th>1</th>\n",
       "      <td>3</td>\n",
       "      <td>7</td>\n",
       "      <td>4</td>\n",
       "    </tr>\n",
       "    <tr>\n",
       "      <th>2</th>\n",
       "      <td>5</td>\n",
       "      <td>5</td>\n",
       "      <td>8</td>\n",
       "    </tr>\n",
       "  </tbody>\n",
       "</table>\n",
       "</div>"
      ],
      "text/plain": [
       "   a  c  d\n",
       "0  2  2  2\n",
       "1  3  7  4\n",
       "2  5  5  8"
      ]
     },
     "execution_count": 13,
     "metadata": {},
     "output_type": "execute_result"
    }
   ],
   "source": [
    "x[['c','d']] = [[2,2],[7,4],[5,8]]\n",
    "x.head()"
   ]
  },
  {
   "cell_type": "code",
   "execution_count": 15,
   "metadata": {},
   "outputs": [
    {
     "data": {
      "text/plain": [
       "[1, 'f', 2, 3, 4]"
      ]
     },
     "execution_count": 15,
     "metadata": {},
     "output_type": "execute_result"
    }
   ],
   "source": [
    "[1,'f'] + [2,3,4]"
   ]
  },
  {
   "cell_type": "code",
   "execution_count": 7,
   "metadata": {},
   "outputs": [
    {
     "name": "stdout",
     "output_type": "stream",
     "text": [
      "Given Dataframe :\n",
      "         Name  Age    Stream  Percentage\n",
      "0      Ankit   21      Math          88\n",
      "1       Amit   19  Commerce          92\n",
      "2  Aishwarya   20      Arts          95\n",
      "3   Priyanka   18   Biology          70\n",
      "\n",
      "Iterating over rows using iterrows() method :\n",
      "\n",
      "Ankit\n",
      "Amit\n",
      "Aishwarya\n",
      "Priyanka\n"
     ]
    },
    {
     "data": {
      "text/plain": [
       "['Amit', 19]"
      ]
     },
     "execution_count": 7,
     "metadata": {},
     "output_type": "execute_result"
    }
   ],
   "source": [
    "# Define a dictionary containing students data\n",
    "data = {'Name': ['Ankit', 'Amit', 'Aishwarya', 'Priyanka'],\n",
    "                'Age': [21, 19, 20, 18],\n",
    "                'Stream': ['Math', 'Commerce', 'Arts', 'Biology'],\n",
    "                'Percentage': [88, 92, 95, 70]}\n",
    "  \n",
    "# Convert the dictionary into DataFrame\n",
    "df = pd.DataFrame(data, columns = ['Name', 'Age', 'Stream', 'Percentage'])\n",
    "  \n",
    "print(\"Given Dataframe :\\n\", df)\n",
    "  \n",
    "print(\"\\nIterating over rows using iterrows() method :\\n\")\n",
    "  \n",
    "# iterate through each row and select \n",
    "# 'Name' and 'Age' column respectively.\n",
    "for index, row in df.iterrows():\n",
    "    print (row.values[0])\n",
    "list(df.loc[1][['Name','Age']])"
   ]
  },
  {
   "cell_type": "code",
   "execution_count": 1,
   "metadata": {},
   "outputs": [
    {
     "name": "stdout",
     "output_type": "stream",
     "text": [
      "2021-03-31\n"
     ]
    }
   ],
   "source": [
    "import calendar\n",
    "from datetime import date, datetime, timedelta\n",
    "from dateutil.relativedelta import relativedelta\n",
    "start_date = datetime(2021, 3, 10).date()\n",
    "\n",
    "delta = calendar.monthrange(start_date.year, start_date.month)[1] - start_date.day\n",
    "start_date = start_date + timedelta(days=delta)\n",
    "print(start_date)"
   ]
  },
  {
   "cell_type": "code",
   "execution_count": 22,
   "metadata": {},
   "outputs": [
    {
     "name": "stdout",
     "output_type": "stream",
     "text": [
      "[1 2 3]\n"
     ]
    }
   ],
   "source": [
    "a = np.array((1,2,3))\n",
    "print(a)\n",
    "if not all(i <= 3 for i in a):\n",
    "    print('error')"
   ]
  },
  {
   "cell_type": "code",
   "execution_count": 1,
   "metadata": {},
   "outputs": [
    {
     "ename": "AttributeError",
     "evalue": "'str' object has no attribute 'contains'",
     "output_type": "error",
     "traceback": [
      "\u001b[1;31m---------------------------------------------------------------------------\u001b[0m",
      "\u001b[1;31mAttributeError\u001b[0m                            Traceback (most recent call last)",
      "\u001b[1;32m<ipython-input-1-170882e42053>\u001b[0m in \u001b[0;36m<module>\u001b[1;34m\u001b[0m\n\u001b[1;32m----> 1\u001b[1;33m \u001b[1;34m\"asdf sd\"\u001b[0m\u001b[1;33m.\u001b[0m\u001b[0mcontains\u001b[0m\u001b[1;33m(\u001b[0m\u001b[1;34m'sd'\u001b[0m\u001b[1;33m)\u001b[0m\u001b[1;33m\u001b[0m\u001b[1;33m\u001b[0m\u001b[0m\n\u001b[0m",
      "\u001b[1;31mAttributeError\u001b[0m: 'str' object has no attribute 'contains'"
     ]
    }
   ],
   "source": [
    "\"asdf sd\".contains('sd')"
   ]
  },
  {
   "cell_type": "code",
   "execution_count": null,
   "metadata": {},
   "outputs": [],
   "source": [
    "txt = \"1-7. (Canceled) \\\n",
    "8. (Currently Amended) A method of electronically distributing a press \\\n",
    "release, the press release comprising a message comprising an advertiser sponsored \\\n",
    "content, from a server computer to one or more forum sites over a global computer.\"\n",
    "\n",
    "match = re.search(str(8) + \"\\.(.+?)\\.\", txt)\n",
    "clm_text = match.group(1)\n",
    "print(clm_text)"
   ]
  },
  {
   "cell_type": "code",
   "execution_count": null,
   "metadata": {},
   "outputs": [],
   "source": [
    "print(re.search(str(8) + \"\\.(.+?)\\.\", txt).group(1))\n",
    "flag = re.search(r\"(A2)|([0-9][0-9]-[0-9][0-9]-[0-9][0-9][0-9][0-9])\", \"US 2006/0190333 A1 08-24-2006 Choi\")\n",
    "if flag:\n",
    "    print(flag.group())\n",
    "    print(flag.group(1))\n",
    "    print(flag.group(2))"
   ]
  },
  {
   "cell_type": "code",
   "execution_count": null,
   "metadata": {},
   "outputs": [],
   "source": [
    "class_regex = \"([0-9]+/[0-9]+)\"\n",
    "flag = re.search(class_regex, \"1/45\")\n",
    "print(flag.group())"
   ]
  },
  {
   "cell_type": "code",
   "execution_count": 3,
   "metadata": {},
   "outputs": [
    {
     "data": {
      "text/plain": [
       "3"
      ]
     },
     "execution_count": 3,
     "metadata": {},
     "output_type": "execute_result"
    }
   ],
   "source": [
    "int(10/3)"
   ]
  },
  {
   "cell_type": "code",
   "execution_count": null,
   "metadata": {},
   "outputs": [],
   "source": []
  }
 ],
 "metadata": {
  "kernelspec": {
   "display_name": "Python 3",
   "language": "python",
   "name": "python3"
  },
  "language_info": {
   "codemirror_mode": {
    "name": "ipython",
    "version": 3
   },
   "file_extension": ".py",
   "mimetype": "text/x-python",
   "name": "python",
   "nbconvert_exporter": "python",
   "pygments_lexer": "ipython3",
   "version": "3.8.3"
  }
 },
 "nbformat": 4,
 "nbformat_minor": 2
}
